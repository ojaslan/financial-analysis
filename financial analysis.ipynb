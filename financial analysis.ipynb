{
 "cells":[
  {
   "cell_type":"code",
   "source":[
    "import pandas as pd\n",
    "import numpy as np\n",
    "import matplotlib.pyplot as plt\n",
    "import seaborn as sns\n",
    "data=pd.read_csv(\"Financial Analytics data.csv\")"
   ],
   "execution_count":42,
   "outputs":[],
   "metadata":{
    "datalore":{
     "node_id":"TNurvueLRzpegunvLy1p8G",
     "type":"CODE",
     "hide_input_from_viewers":true,
     "hide_output_from_viewers":true
    }
   }
  },
  {
   "cell_type":"code",
   "source":[
    "data.head()"
   ],
   "execution_count":43,
   "outputs":[
    {
     "data":{
      "text\/html":[
       "<div>\n",
       "<style scoped>\n",
       "    .dataframe tbody tr th:only-of-type {\n",
       "        vertical-align: middle;\n",
       "    }\n",
       "\n",
       "    .dataframe tbody tr th {\n",
       "        vertical-align: top;\n",
       "    }\n",
       "\n",
       "    .dataframe thead th {\n",
       "        text-align: right;\n",
       "    }\n",
       "<\/style>\n",
       "<table border=\"1\" class=\"dataframe\">\n",
       "  <thead>\n",
       "    <tr style=\"text-align: right;\">\n",
       "      <th><\/th>\n",
       "      <th>S.No.<\/th>\n",
       "      <th>Name<\/th>\n",
       "      <th>Mar Cap - Crore<\/th>\n",
       "      <th>Sales Qtr - Crore<\/th>\n",
       "      <th>Unnamed: 4<\/th>\n",
       "    <\/tr>\n",
       "  <\/thead>\n",
       "  <tbody>\n",
       "    <tr>\n",
       "      <th>0<\/th>\n",
       "      <td>1<\/td>\n",
       "      <td>Reliance Inds.<\/td>\n",
       "      <td>583436.72<\/td>\n",
       "      <td>99810.00<\/td>\n",
       "      <td>NaN<\/td>\n",
       "    <\/tr>\n",
       "    <tr>\n",
       "      <th>1<\/th>\n",
       "      <td>2<\/td>\n",
       "      <td>TCS<\/td>\n",
       "      <td>563709.84<\/td>\n",
       "      <td>30904.00<\/td>\n",
       "      <td>NaN<\/td>\n",
       "    <\/tr>\n",
       "    <tr>\n",
       "      <th>2<\/th>\n",
       "      <td>3<\/td>\n",
       "      <td>HDFC Bank<\/td>\n",
       "      <td>482953.59<\/td>\n",
       "      <td>20581.27<\/td>\n",
       "      <td>NaN<\/td>\n",
       "    <\/tr>\n",
       "    <tr>\n",
       "      <th>3<\/th>\n",
       "      <td>4<\/td>\n",
       "      <td>ITC<\/td>\n",
       "      <td>320985.27<\/td>\n",
       "      <td>9772.02<\/td>\n",
       "      <td>NaN<\/td>\n",
       "    <\/tr>\n",
       "    <tr>\n",
       "      <th>4<\/th>\n",
       "      <td>5<\/td>\n",
       "      <td>H D F C<\/td>\n",
       "      <td>289497.37<\/td>\n",
       "      <td>16840.51<\/td>\n",
       "      <td>NaN<\/td>\n",
       "    <\/tr>\n",
       "  <\/tbody>\n",
       "<\/table>\n",
       "<\/div>"
      ]
     },
     "metadata":{},
     "output_type":"display_data"
    }
   ],
   "metadata":{
    "datalore":{
     "node_id":"ENSJhuL56pKObfgyF2QeAz",
     "type":"CODE",
     "hide_input_from_viewers":true,
     "hide_output_from_viewers":true
    }
   }
  },
  {
   "cell_type":"code",
   "source":[
    "data.isnull().sum()"
   ],
   "execution_count":44,
   "outputs":[
    {
     "data":{
      "text\/html":[
       "<pre>S.No.                  0\n",
       "Name                   0\n",
       "Mar Cap - Crore        9\n",
       "Sales Qtr - Crore    123\n",
       "Unnamed: 4           394\n",
       "dtype: int64<\/pre>"
      ]
     },
     "metadata":{},
     "output_type":"display_data"
    }
   ],
   "metadata":{
    "datalore":{
     "node_id":"OQ3XVfqxQj76VaFlt6Cg0s",
     "type":"CODE",
     "hide_input_from_viewers":true,
     "hide_output_from_viewers":true
    }
   }
  },
  {
   "cell_type":"code",
   "source":[
    "data.isnull().any()"
   ],
   "execution_count":45,
   "outputs":[
    {
     "data":{
      "text\/html":[
       "<pre>S.No.                False\n",
       "Name                 False\n",
       "Mar Cap - Crore       True\n",
       "Sales Qtr - Crore     True\n",
       "Unnamed: 4            True\n",
       "dtype: bool<\/pre>"
      ]
     },
     "metadata":{},
     "output_type":"display_data"
    }
   ],
   "metadata":{
    "datalore":{
     "node_id":"Q6wQYXw2k1Ovi04yb58QHd",
     "type":"CODE",
     "hide_input_from_viewers":true,
     "hide_output_from_viewers":true
    }
   }
  },
  {
   "cell_type":"code",
   "source":[
    "data.describe()"
   ],
   "execution_count":46,
   "outputs":[
    {
     "data":{
      "text\/html":[
       "<div>\n",
       "<style scoped>\n",
       "    .dataframe tbody tr th:only-of-type {\n",
       "        vertical-align: middle;\n",
       "    }\n",
       "\n",
       "    .dataframe tbody tr th {\n",
       "        vertical-align: top;\n",
       "    }\n",
       "\n",
       "    .dataframe thead th {\n",
       "        text-align: right;\n",
       "    }\n",
       "<\/style>\n",
       "<table border=\"1\" class=\"dataframe\">\n",
       "  <thead>\n",
       "    <tr style=\"text-align: right;\">\n",
       "      <th><\/th>\n",
       "      <th>S.No.<\/th>\n",
       "      <th>Mar Cap - Crore<\/th>\n",
       "      <th>Sales Qtr - Crore<\/th>\n",
       "      <th>Unnamed: 4<\/th>\n",
       "    <\/tr>\n",
       "  <\/thead>\n",
       "  <tbody>\n",
       "    <tr>\n",
       "      <th>count<\/th>\n",
       "      <td>488.000000<\/td>\n",
       "      <td>479.000000<\/td>\n",
       "      <td>365.000000<\/td>\n",
       "      <td>94.000000<\/td>\n",
       "    <\/tr>\n",
       "    <tr>\n",
       "      <th>mean<\/th>\n",
       "      <td>251.508197<\/td>\n",
       "      <td>28043.857119<\/td>\n",
       "      <td>4395.976849<\/td>\n",
       "      <td>1523.870106<\/td>\n",
       "    <\/tr>\n",
       "    <tr>\n",
       "      <th>std<\/th>\n",
       "      <td>145.884078<\/td>\n",
       "      <td>59464.615831<\/td>\n",
       "      <td>11092.206185<\/td>\n",
       "      <td>1800.008836<\/td>\n",
       "    <\/tr>\n",
       "    <tr>\n",
       "      <th>min<\/th>\n",
       "      <td>1.000000<\/td>\n",
       "      <td>3017.070000<\/td>\n",
       "      <td>47.240000<\/td>\n",
       "      <td>0.000000<\/td>\n",
       "    <\/tr>\n",
       "    <tr>\n",
       "      <th>25%<\/th>\n",
       "      <td>122.750000<\/td>\n",
       "      <td>4843.575000<\/td>\n",
       "      <td>593.740000<\/td>\n",
       "      <td>407.167500<\/td>\n",
       "    <\/tr>\n",
       "    <tr>\n",
       "      <th>50%<\/th>\n",
       "      <td>252.500000<\/td>\n",
       "      <td>9885.050000<\/td>\n",
       "      <td>1278.300000<\/td>\n",
       "      <td>702.325000<\/td>\n",
       "    <\/tr>\n",
       "    <tr>\n",
       "      <th>75%<\/th>\n",
       "      <td>378.250000<\/td>\n",
       "      <td>23549.900000<\/td>\n",
       "      <td>2840.750000<\/td>\n",
       "      <td>2234.815000<\/td>\n",
       "    <\/tr>\n",
       "    <tr>\n",
       "      <th>max<\/th>\n",
       "      <td>500.000000<\/td>\n",
       "      <td>583436.720000<\/td>\n",
       "      <td>110666.930000<\/td>\n",
       "      <td>7757.060000<\/td>\n",
       "    <\/tr>\n",
       "  <\/tbody>\n",
       "<\/table>\n",
       "<\/div>"
      ]
     },
     "metadata":{},
     "output_type":"display_data"
    }
   ],
   "metadata":{
    "datalore":{
     "node_id":"weG4G1NVzgRIhPxlr4ur5t",
     "type":"CODE",
     "hide_input_from_viewers":true,
     "hide_output_from_viewers":true
    }
   }
  },
  {
   "cell_type":"code",
   "source":[
    "#cleaning the data\n",
    "cleaned = data.drop(columns=['Unnamed: 4'])\n",
    "cleaned.columns = ['Serial Number', 'Company Name', 'Market Capitalization (Crore)', 'Quarterly Sales (Crore)']\n",
    "cleaned['Market Capitalization (Crore)'] = pd.to_numeric(cleaned['Market Capitalization (Crore)'], errors='coerce')\n",
    "cleaned['Quarterly Sales (Crore)'] = pd.to_numeric(cleaned['Quarterly Sales (Crore)'], errors='coerce')"
   ],
   "execution_count":47,
   "outputs":[],
   "metadata":{
    "datalore":{
     "node_id":"XnDmEOwe4RglODReAW79JK",
     "type":"CODE",
     "hide_input_from_viewers":true,
     "hide_output_from_viewers":true
    }
   }
  },
  {
   "cell_type":"code",
   "source":[
    "data_cleaned = cleaned.dropna()\n",
    "data_cleaned"
   ],
   "execution_count":48,
   "outputs":[
    {
     "data":{
      "text\/html":[
       "<div>\n",
       "<style scoped>\n",
       "    .dataframe tbody tr th:only-of-type {\n",
       "        vertical-align: middle;\n",
       "    }\n",
       "\n",
       "    .dataframe tbody tr th {\n",
       "        vertical-align: top;\n",
       "    }\n",
       "\n",
       "    .dataframe thead th {\n",
       "        text-align: right;\n",
       "    }\n",
       "<\/style>\n",
       "<table border=\"1\" class=\"dataframe\">\n",
       "  <thead>\n",
       "    <tr style=\"text-align: right;\">\n",
       "      <th><\/th>\n",
       "      <th>Serial Number<\/th>\n",
       "      <th>Company Name<\/th>\n",
       "      <th>Market Capitalization (Crore)<\/th>\n",
       "      <th>Quarterly Sales (Crore)<\/th>\n",
       "    <\/tr>\n",
       "  <\/thead>\n",
       "  <tbody>\n",
       "    <tr>\n",
       "      <th>0<\/th>\n",
       "      <td>1<\/td>\n",
       "      <td>Reliance Inds.<\/td>\n",
       "      <td>583436.72<\/td>\n",
       "      <td>99810.00<\/td>\n",
       "    <\/tr>\n",
       "    <tr>\n",
       "      <th>1<\/th>\n",
       "      <td>2<\/td>\n",
       "      <td>TCS<\/td>\n",
       "      <td>563709.84<\/td>\n",
       "      <td>30904.00<\/td>\n",
       "    <\/tr>\n",
       "    <tr>\n",
       "      <th>2<\/th>\n",
       "      <td>3<\/td>\n",
       "      <td>HDFC Bank<\/td>\n",
       "      <td>482953.59<\/td>\n",
       "      <td>20581.27<\/td>\n",
       "    <\/tr>\n",
       "    <tr>\n",
       "      <th>3<\/th>\n",
       "      <td>4<\/td>\n",
       "      <td>ITC<\/td>\n",
       "      <td>320985.27<\/td>\n",
       "      <td>9772.02<\/td>\n",
       "    <\/tr>\n",
       "    <tr>\n",
       "      <th>4<\/th>\n",
       "      <td>5<\/td>\n",
       "      <td>H D F C<\/td>\n",
       "      <td>289497.37<\/td>\n",
       "      <td>16840.51<\/td>\n",
       "    <\/tr>\n",
       "    <tr>\n",
       "      <th>...<\/th>\n",
       "      <td>...<\/td>\n",
       "      <td>...<\/td>\n",
       "      <td>...<\/td>\n",
       "      <td>...<\/td>\n",
       "    <\/tr>\n",
       "    <tr>\n",
       "      <th>482<\/th>\n",
       "      <td>495<\/td>\n",
       "      <td>Prime Focus<\/td>\n",
       "      <td>3031.50<\/td>\n",
       "      <td>609.61<\/td>\n",
       "    <\/tr>\n",
       "    <tr>\n",
       "      <th>483<\/th>\n",
       "      <td>496<\/td>\n",
       "      <td>Lak. Vilas Bank<\/td>\n",
       "      <td>3029.57<\/td>\n",
       "      <td>790.17<\/td>\n",
       "    <\/tr>\n",
       "    <tr>\n",
       "      <th>484<\/th>\n",
       "      <td>497<\/td>\n",
       "      <td>NOCIL<\/td>\n",
       "      <td>3026.26<\/td>\n",
       "      <td>249.27<\/td>\n",
       "    <\/tr>\n",
       "    <tr>\n",
       "      <th>485<\/th>\n",
       "      <td>498<\/td>\n",
       "      <td>Orient Cement<\/td>\n",
       "      <td>3024.32<\/td>\n",
       "      <td>511.53<\/td>\n",
       "    <\/tr>\n",
       "    <tr>\n",
       "      <th>486<\/th>\n",
       "      <td>499<\/td>\n",
       "      <td>Natl.Fertilizer<\/td>\n",
       "      <td>3017.07<\/td>\n",
       "      <td>2840.75<\/td>\n",
       "    <\/tr>\n",
       "  <\/tbody>\n",
       "<\/table>\n",
       "<p>365 rows × 4 columns<\/p>\n",
       "<\/div>"
      ]
     },
     "metadata":{},
     "output_type":"display_data"
    }
   ],
   "metadata":{
    "datalore":{
     "node_id":"12aOjvcPHD2itHJslMm0QV",
     "type":"CODE",
     "hide_input_from_viewers":true,
     "hide_output_from_viewers":true
    }
   }
  },
  {
   "cell_type":"code",
   "source":[
    "sns.set(style=\"whitegrid\")"
   ],
   "execution_count":51,
   "outputs":[],
   "metadata":{
    "datalore":{
     "node_id":"FwREkNbQrRNpicpsARUyX4",
     "type":"CODE",
     "hide_input_from_viewers":true,
     "hide_output_from_viewers":true
    }
   }
  },
  {
   "cell_type":"code",
   "source":[
    "# Plot the distribution of Market Capitalization\n",
    "plt.figure(figsize=(14, 6))\n",
    "plt.subplot(1, 2, 1)\n",
    "sns.histplot(cleaned['Market Capitalization (Crore)'], kde=True, color='blue')\n",
    "plt.title('Distribution of Market Capitalization')\n",
    "plt.xlabel('Market Capitalization (Crore)')\n",
    "plt.ylabel('Frequency')"
   ],
   "execution_count":54,
   "outputs":[
    {
     "data":{
      "text\/plain":[
       "Text(0, 0.5, 'Frequency')"
      ]
     },
     "metadata":{},
     "output_type":"display_data"
    },
    {
     "data":{
      "image\/png":"[encoded data removed]"
     },
     "metadata":{
      "image\/png":{}
     },
     "output_type":"display_data"
    }
   ],
   "metadata":{
    "datalore":{
     "node_id":"upXZlOHtUoUbEcQGAcJaL2",
     "type":"CODE",
     "hide_input_from_viewers":true,
     "hide_output_from_viewers":true
    }
   }
  },
  {
   "cell_type":"code",
   "source":[
    "\n",
    "# Plot the distribution of Quarterly Sales\n",
    "plt.subplot(1, 2, 2)\n",
    "sns.histplot(cleaned['Quarterly Sales (Crore)'], kde=True, color='green')\n",
    "plt.title('Distribution of Quarterly Sales')\n",
    "plt.xlabel('Quarterly Sales (Crore)')\n",
    "plt.ylabel('Frequency')\n",
    "plt.show()"
   ],
   "execution_count":56,
   "outputs":[
    {
     "data":{
      "image\/png":"[encoded data removed]"
     },
     "metadata":{
      "image\/png":{}
     },
     "output_type":"display_data"
    }
   ],
   "metadata":{
    "datalore":{
     "node_id":"4rZarWb4v9waHhvrOBranR",
     "type":"CODE",
     "hide_input_from_viewers":true,
     "hide_output_from_viewers":true
    }
   }
  },
  {
   "cell_type":"code",
   "source":[
    "# Plot the relationship between Market Capitalization and Quarterly Sales\n",
    "plt.figure(figsize=(10, 6))\n",
    "sns.scatterplot(x='Market Capitalization (Crore)', y='Quarterly Sales (Crore)', data=cleaned, alpha=0.6)\n",
    "plt.title('Market Capitalization vs. Quarterly Sales')\n",
    "plt.xlabel('Market Capitalization (Crore)')\n",
    "plt.ylabel('Quarterly Sales (Crore)')\n",
    "plt.show()"
   ],
   "execution_count":57,
   "outputs":[
    {
     "data":{
      "image\/png":"[encoded data removed]"
     },
     "metadata":{
      "image\/png":{}
     },
     "output_type":"display_data"
    }
   ],
   "metadata":{
    "datalore":{
     "node_id":"p35pWJ232QEg0771KJn9GH",
     "type":"CODE",
     "hide_input_from_viewers":true,
     "hide_output_from_viewers":true
    }
   }
  }
 ],
 "metadata":{
  "kernelspec":{
   "display_name":"Python",
   "language":"python",
   "name":"python"
  },
  "datalore":{
   "computation_mode":"JUPYTER",
   "package_manager":"pip",
   "base_environment":"default",
   "packages":[],
   "report_row_ids":[],
   "version":3
  }
 },
 "nbformat":4,
 "nbformat_minor":4
}